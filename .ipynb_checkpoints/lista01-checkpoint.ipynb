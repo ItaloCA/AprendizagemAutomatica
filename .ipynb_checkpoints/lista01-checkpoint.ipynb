{
 "cells": [
  {
   "cell_type": "markdown",
   "id": "ed574f28",
   "metadata": {},
   "source": [
    "#### Disciplina: Aprendizagem de Máquina\n",
    "#### Período: 2022.1\n",
    "#### Professor: César Lincoln Cavalcante Mattos\n",
    "#### Aluno: Ítalo Cavalcante de Abreu - 542406\n",
    "\n",
    "## Lista 1 - Regressão linear, polinomial e regularização\n",
    "\n",
    "\n",
    "Instruções\n",
    "- Com exceção dos casos explicitamente indicados, os algoritmos e modelos devem\n",
    "ser implementados do início em qualquer linguagem de programação (Python,\n",
    "R, Octave...).\n",
    "- Pacotes auxiliares (sklearn, matplotlib, etc) podem ser usados somente para\n",
    "facilitar a manipulação dos dados e criar grá\u001c",
    "cos.\n",
    "- A entrega da solução pode ser feita via pdf ou Jupyter notebook pelo SIGAA"
   ]
  },
  {
   "cell_type": "code",
   "execution_count": 2,
   "id": "da829d08",
   "metadata": {},
   "outputs": [],
   "source": [
    "import numpy as np\n",
    "import matplotlib.pyplot as plt"
   ]
  },
  {
   "cell_type": "markdown",
   "id": "99763e94",
   "metadata": {},
   "source": [
    "### Questão 1\n",
    "\n",
    "#### Considere o conjunto de dados disponível em arti\u001c",
    "cial1d.csv organizado em duas colunas, x e y. Seja um modelo de regressão linear para yˆ = f(x)."
   ]
  },
  {
   "cell_type": "code",
   "execution_count": 5,
   "id": "d1625cef",
   "metadata": {},
   "outputs": [],
   "source": [
    "dataset = np.genfromtxt('./artificial1d.csv', delimiter=',', skip_header=1)"
   ]
  },
  {
   "cell_type": "code",
   "execution_count": 6,
   "id": "cc9ab696",
   "metadata": {},
   "outputs": [
    {
     "data": {
      "text/plain": [
       "array([[-0.93103448, -1.32698023],\n",
       "       [-0.86206897, -1.10559772],\n",
       "       [-0.79310345, -0.87394576],\n",
       "       [-0.72413793, -0.28502695],\n",
       "       [-0.65517241, -0.43115252],\n",
       "       [-0.5862069 , -0.79475402],\n",
       "       [-0.51724138, -0.88606806],\n",
       "       [-0.44827586, -0.89989978],\n",
       "       [-0.37931034, -0.86184365],\n",
       "       [-0.31034483, -0.88805183],\n",
       "       [-0.24137931, -1.23595129],\n",
       "       [-0.17241379, -0.71956827],\n",
       "       [-0.10344828, -0.45202286],\n",
       "       [-0.03448276,  0.09889951],\n",
       "       [ 0.03448276,  0.34896973],\n",
       "       [ 0.10344828,  0.09747797],\n",
       "       [ 0.17241379,  0.70019809],\n",
       "       [ 0.24137931,  1.31051213],\n",
       "       [ 0.31034483,  1.00177576],\n",
       "       [ 0.37931034,  1.00318231],\n",
       "       [ 0.44827586,  1.14910129],\n",
       "       [ 0.51724138,  1.59220607],\n",
       "       [ 0.5862069 ,  0.60909009],\n",
       "       [ 0.65517241,  0.59441623],\n",
       "       [ 0.72413793,  0.70300732],\n",
       "       [ 0.79310345,  0.82332241],\n",
       "       [ 0.86206897,  1.10646439],\n",
       "       [ 0.93103448,  1.42295695],\n",
       "       [ 1.        ,  2.30983768]])"
      ]
     },
     "execution_count": 6,
     "metadata": {},
     "output_type": "execute_result"
    }
   ],
   "source": [
    "dataset"
   ]
  },
  {
   "cell_type": "markdown",
   "id": "36048af9",
   "metadata": {},
   "source": [
    "    a) Apresente os parâmetros do modelo e o MSE (erro quadrático médio) obtidos pelo algoritmo OLS (mínimos quadrados ordinários). Plote a reta resultante sobre os dados."
   ]
  },
  {
   "cell_type": "code",
   "execution_count": 94,
   "id": "3b279058",
   "metadata": {},
   "outputs": [],
   "source": [
    "\n",
    "# y = X*w\n",
    "def OLS(X,y):\n",
    "    \n",
    "    if(X.ndim <2):\n",
    "        y_ = y.mean()\n",
    "        x_ = X.mean()\n",
    "        \n",
    "        w1 = np.sum((y-y_)*(X-x_))/np.sum((X-x_)**2)\n",
    "        w0 = y_- w1*x_\n",
    "        \n",
    "        return (w0,w1)\n",
    "    else:\n",
    "        XTX = np.dot(X.T,X)\n",
    "        w = np.dot(np.dot(np.linalg.inv(XTX),X.T), y)\n",
    "        # ou w = np.dot(np.linalg.pinv(X), y)\n",
    "        return(w)"
   ]
  },
  {
   "cell_type": "code",
   "execution_count": 106,
   "id": "4ab070f0",
   "metadata": {},
   "outputs": [
    {
     "name": "stdout",
     "output_type": "stream",
     "text": [
      "[w0 w1]:  [0.08956111 1.51328267]\n",
      "MSE:  0.14097007560796895\n"
     ]
    }
   ],
   "source": [
    "x = dataset[:,0];\n",
    "y = dataset[:,1];\n",
    "X = np.array([np.full(x.size, 1),x]).T\n",
    "\n",
    "w = OLS(X, y)\n",
    "\n",
    "y_pred = w[0] + w[1]*y\n",
    "# Parametros encontrados\n",
    "print('[w0 w1]: ', w)\n",
    "\n",
    "# MSE\n",
    "print('MSE: ', (1/(2*x.size))* np.sum( ( y - y_pred )**2 )   )"
   ]
  },
  {
   "cell_type": "code",
   "execution_count": 96,
   "id": "7d3360ba",
   "metadata": {},
   "outputs": [
    {
     "data": {
      "image/png": "[encoded data removed]",
      "text/plain": [
       "<Figure size 432x288 with 1 Axes>"
      ]
     },
     "metadata": {
      "needs_background": "light"
     },
     "output_type": "display_data"
    }
   ],
   "source": [
    "def plot2d(x, y, w):\n",
    "    plt.scatter(x, y, color = \"m\",\n",
    "               marker = \"o\", s = 30)\n",
    " \n",
    "    y_pred = w[0] + w[1]*x\n",
    " \n",
    "    plt.plot(x, y_pred, color = \"g\")\n",
    " \n",
    "    plt.xlabel('x')\n",
    "    plt.ylabel('y')\n",
    " \n",
    "    plt.show()\n",
    "    \n",
    "plot2d(x,y,w)"
   ]
  },
  {
   "cell_type": "markdown",
   "id": "3e4dc65f",
   "metadata": {},
   "source": [
    "    b) Apresente os parâmetros do modelo, o MSE e a curva de aprendizagem obtidos pelo algoritmo GD (gradiente descendente). Plote a reta re\u0002sultante sobre os dados."
   ]
  },
  {
   "cell_type": "code",
   "execution_count": 210,
   "id": "d74a070e",
   "metadata": {
    "scrolled": true
   },
   "outputs": [
    {
     "name": "stdout",
     "output_type": "stream",
     "text": [
      "error : [-0.10151467  0.02214728  0.15607868  0.64727693  0.4034308  -0.05789126\n",
      " -0.24692586 -0.35847814 -0.41814257 -0.54207131 -0.98769133 -0.56902887\n",
      " -0.39920402  0.05399779  0.20634745 -0.14286486  0.36213469  0.87472818\n",
      "  0.46827124  0.37195723  0.42015565  0.76553987 -0.31529667 -0.42769109\n",
      " -0.41682056 -0.39422603 -0.2088046   0.0099674   0.79912757]\n"
     ]
    },
    {
     "data": {
      "text/plain": [
       "array([0.09376156, 1.41696414])"
      ]
     },
     "execution_count": 210,
     "metadata": {},
     "output_type": "execute_result"
    }
   ],
   "source": [
    "\n",
    "def GD(X,y, alpha=0.01, epochs=100):\n",
    "    N = X.size\n",
    "    \n",
    "    #Escolha um valor α positivo e pequeno.\n",
    "    \n",
    "    # Inicialize os parametros do modelo na iteracao t = 0.\n",
    "    w = np.array(np.full(X.shape[1], 1))\n",
    "    w[0] = 0\n",
    "    t=0\n",
    "    \n",
    "    stop_condition = False\n",
    "    while not stop_condition:\n",
    "        t=t+1\n",
    "        \n",
    "        w_t=w.copy()\n",
    "        \n",
    "        # Calcule os erros do modelo\n",
    "        y_t = np.dot(X, w_t)\n",
    "        err_t = y - y_t\n",
    "        \n",
    "        # Atualize os parametros\n",
    "        w = w_t + alpha*(1/N)*np.dot(err_t,X)\n",
    "        \n",
    "        \n",
    "        #print(err_t, '\\n\\n\\n', X, '\\n\\n\\n', np.dot(err_t,X), '\\n\\n\\n', w)\n",
    "        \n",
    "        if t>=epochs:\n",
    "            stop_condition = True\n",
    "        \n",
    "    print('error :',err_t)\n",
    "    return w\n",
    "    \n",
    "    \n",
    "        \n",
    "    \n",
    "w2 = GD(X,y, 0.001, 10000)\n",
    "w2"
   ]
  },
  {
   "cell_type": "code",
   "execution_count": 211,
   "id": "bf6ea75f",
   "metadata": {},
   "outputs": [
    {
     "data": {
      "image/png": "[encoded data removed]",
      "text/plain": [
       "<Figure size 432x288 with 1 Axes>"
      ]
     },
     "metadata": {
      "needs_background": "light"
     },
     "output_type": "display_data"
    }
   ],
   "source": [
    "plot2d(x,y,w2)"
   ]
  },
  {
   "cell_type": "code",
   "execution_count": null,
   "id": "7ba815d4",
   "metadata": {},
   "outputs": [],
   "source": []
  },
  {
   "cell_type": "code",
   "execution_count": null,
   "id": "6a3db12b",
   "metadata": {},
   "outputs": [],
   "source": []
  },
  {
   "cell_type": "code",
   "execution_count": null,
   "id": "1a5fcc09",
   "metadata": {},
   "outputs": [],
   "source": []
  }
 ],
 "metadata": {
  "kernelspec": {
   "display_name": "Python 3 (ipykernel)",
   "language": "python",
   "name": "python3"
  },
  "language_info": {
   "codemirror_mode": {
    "name": "ipython",
    "version": 3
   },
   "file_extension": ".py",
   "mimetype": "text/x-python",
   "name": "python",
   "nbconvert_exporter": "python",
   "pygments_lexer": "ipython3",
   "version": "3.10.0"
  }
 },
 "nbformat": 4,
 "nbformat_minor": 5
}
