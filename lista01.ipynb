{
 "cells": [
  {
   "cell_type": "markdown",
   "id": "3d14b4e2",
   "metadata": {},
   "source": [
    "#### Disciplina: Aprendizagem de Máquina\n",
    "#### Período: 2022.1\n",
    "#### Professor: César Lincoln Cavalcante Mattos\n",
    "#### Aluno: Ítalo Cavalcante de Abreu - 542406\n",
    "\n",
    "# Lista 1 - Regressão linear, polinomial e regularização\n",
    "\n",
    "\n",
    "Instruções\n",
    "- Com exceção dos casos explicitamente indicados, os algoritmos e modelos devem\n",
    "ser implementados do início em qualquer linguagem de programação (Python,\n",
    "R, Octave...).\n",
    "- Pacotes auxiliares (sklearn, matplotlib, etc) podem ser usados somente para\n",
    "facilitar a manipulação dos dados e criar grá\u001c",
    "cos.\n",
    "- A entrega da solução pode ser feita via pdf ou Jupyter notebook pelo SIGAA"
   ]
  },
  {
   "cell_type": "code",
   "execution_count": 2,
   "id": "da829d08",
   "metadata": {},
   "outputs": [],
   "source": [
    "import numpy as np\n",
    "import matplotlib.pyplot as plt"
   ]
  },
  {
   "cell_type": "markdown",
   "id": "d9bf453f",
   "metadata": {},
   "source": [
    "## Questão 1\n",
    "\n",
    "### Considere o conjunto de dados disponível em arti\u001c",
    "cial1d.csv organizado em duas colunas, x e y. Seja um modelo de regressão linear para yˆ = f(x)."
   ]
  },
  {
   "cell_type": "code",
   "execution_count": 270,
   "id": "b3f91382",
   "metadata": {},
   "outputs": [
    {
     "data": {
      "text/plain": [
       "array([[-0.93103448, -1.32698023],\n",
       "       [-0.86206897, -1.10559772],\n",
       "       [-0.79310345, -0.87394576],\n",
       "       [-0.72413793, -0.28502695],\n",
       "       [-0.65517241, -0.43115252],\n",
       "       [-0.5862069 , -0.79475402],\n",
       "       [-0.51724138, -0.88606806],\n",
       "       [-0.44827586, -0.89989978],\n",
       "       [-0.37931034, -0.86184365],\n",
       "       [-0.31034483, -0.88805183],\n",
       "       [-0.24137931, -1.23595129],\n",
       "       [-0.17241379, -0.71956827],\n",
       "       [-0.10344828, -0.45202286],\n",
       "       [-0.03448276,  0.09889951],\n",
       "       [ 0.03448276,  0.34896973],\n",
       "       [ 0.10344828,  0.09747797],\n",
       "       [ 0.17241379,  0.70019809],\n",
       "       [ 0.24137931,  1.31051213],\n",
       "       [ 0.31034483,  1.00177576],\n",
       "       [ 0.37931034,  1.00318231],\n",
       "       [ 0.44827586,  1.14910129],\n",
       "       [ 0.51724138,  1.59220607],\n",
       "       [ 0.5862069 ,  0.60909009],\n",
       "       [ 0.65517241,  0.59441623],\n",
       "       [ 0.72413793,  0.70300732],\n",
       "       [ 0.79310345,  0.82332241],\n",
       "       [ 0.86206897,  1.10646439],\n",
       "       [ 0.93103448,  1.42295695],\n",
       "       [ 1.        ,  2.30983768]])"
      ]
     },
     "execution_count": 270,
     "metadata": {},
     "output_type": "execute_result"
    }
   ],
   "source": [
    "dataset = np.genfromtxt('./artificial1d.csv', delimiter=',', skip_header=1)\n",
    "dataset"
   ]
  },
  {
   "cell_type": "code",
   "execution_count": 275,
   "id": "0fbee3c1",
   "metadata": {},
   "outputs": [],
   "source": [
    "x = dataset[:,0];\n",
    "y = dataset[:,1];\n",
    "X = np.array([np.full(x.size, 1),x]).T\n"
   ]
  },
  {
   "cell_type": "markdown",
   "id": "37b7c743",
   "metadata": {},
   "source": [
    "    a) Apresente os parâmetros do modelo e o MSE (erro quadrático médio) obtidos pelo algoritmo OLS (mínimos quadrados ordinários). Plote a reta resultante sobre os dados."
   ]
  },
  {
   "cell_type": "code",
   "execution_count": 276,
   "id": "cd35ba87",
   "metadata": {},
   "outputs": [],
   "source": [
    "\n",
    "# y = X*w\n",
    "def OLS(X,y):\n",
    "    \n",
    "    if(X.ndim <2):\n",
    "        y_ = y.mean()\n",
    "        x_ = X.mean()\n",
    "        \n",
    "        w1 = np.sum((y-y_)*(X-x_))/np.sum((X-x_)**2)\n",
    "        w0 = y_- w1*x_\n",
    "        \n",
    "        return (w0,w1)\n",
    "    else:\n",
    "        XTX = np.dot(X.T,X)\n",
    "        w = np.dot(np.dot(np.linalg.inv(XTX),X.T), y)\n",
    "        # ou w = np.dot(np.linalg.pinv(X), y)\n",
    "        return(w)"
   ]
  },
  {
   "cell_type": "code",
   "execution_count": 277,
   "id": "f834bf1f",
   "metadata": {},
   "outputs": [
    {
     "name": "stdout",
     "output_type": "stream",
     "text": [
      "[w0 w1]:  [0.08956111 1.51328267]\n",
      "MSE:  0.14097007560796895\n"
     ]
    }
   ],
   "source": [
    "w = OLS(X, y)\n",
    "\n",
    "y_pred = w[0] + w[1]*y\n",
    "# Parametros encontrados\n",
    "print('[w0 w1]: ', w)\n",
    "\n",
    "# MSE\n",
    "print('MSE: ', (1/(2*x.size))* np.sum( ( y - y_pred )**2 )   )"
   ]
  },
  {
   "cell_type": "code",
   "execution_count": 278,
   "id": "acf4241d",
   "metadata": {},
   "outputs": [
    {
     "data": {
      "image/png": "[encoded data removed]",
      "text/plain": [
       "<Figure size 432x288 with 1 Axes>"
      ]
     },
     "metadata": {
      "needs_background": "light"
     },
     "output_type": "display_data"
    }
   ],
   "source": [
    "def plot2d(x, y, w):\n",
    "    plt.scatter(x, y, color = \"m\",\n",
    "               marker = \"o\", s = 30)\n",
    " \n",
    "    y_pred = w[0] + w[1]*x\n",
    " \n",
    "    plt.plot(x, y_pred, color = \"g\")\n",
    " \n",
    "    plt.xlabel('x')\n",
    "    plt.ylabel('y')\n",
    " \n",
    "    plt.show()\n",
    "    \n",
    "plot2d(x,y,w)"
   ]
  },
  {
   "cell_type": "markdown",
   "id": "8a18ec16",
   "metadata": {},
   "source": [
    "    b) Apresente os parâmetros do modelo, o MSE e a curva de aprendizagem obtidos pelo algoritmo GD (gradiente descendente). Plote a reta re\u0002sultante sobre os dados."
   ]
  },
  {
   "cell_type": "code",
   "execution_count": 279,
   "id": "9983b0c2",
   "metadata": {
    "scrolled": true
   },
   "outputs": [
    {
     "name": "stdout",
     "output_type": "stream",
     "text": [
      "error : [-0.007623    0.10939519  0.23668283  0.72123731  0.47074742  0.0027816\n",
      " -0.19289676 -0.3110928  -0.377401   -0.5079735  -0.96023728 -0.54821858\n",
      " -0.38503749  0.06152056  0.20722645 -0.14862962  0.34972617  0.85567589\n",
      "  0.44257519  0.33961743  0.38117209  0.71991254 -0.36756776 -0.48660594\n",
      " -0.48237917 -0.46642841 -0.28765074 -0.07552251  0.7069939 ]\n"
     ]
    },
    {
     "data": {
      "text/plain": [
       "array([0.08956111, 1.51328267])"
      ]
     },
     "execution_count": 279,
     "metadata": {},
     "output_type": "execute_result"
    }
   ],
   "source": [
    "\n",
    "def GD(X,y, alpha=0.01, epochs=100):\n",
    "    N = X.shape[1]\n",
    "    \n",
    "    #Escolha um valor α positivo e pequeno.\n",
    "    \n",
    "    # Inicialize os parametros do modelo na iteracao t = 0.\n",
    "    w = np.array(np.full(X.shape[1], 1))\n",
    "    w[0] = 0\n",
    "    t=0\n",
    "    \n",
    "    # Repita por diversos ciclos ( ́epocas):\n",
    "    stop_condition = False\n",
    "    while not stop_condition:\n",
    "        t=t+1\n",
    "        \n",
    "        w_t=w.copy()\n",
    "        \n",
    "        # Calcule os erros do modelo\n",
    "        y_t = np.dot(X, w_t)\n",
    "        err_t = y - y_t\n",
    "        \n",
    "        # Atualize os parametros\n",
    "        w = w_t + alpha*(1/N)*np.dot(err_t,X)\n",
    "        \n",
    "        \n",
    "        #print(err_t, '\\n\\n\\n', X, '\\n\\n\\n', np.dot(err_t,X), '\\n\\n\\n', w)\n",
    "        \n",
    "        if t>=epochs:\n",
    "            stop_condition = True\n",
    "        \n",
    "    print('error :',err_t)\n",
    "    return w\n",
    "    \n",
    "    \n",
    "        \n",
    "    \n",
    "w2 = GD(X,y, 0.001, 10000)\n",
    "w2"
   ]
  },
  {
   "cell_type": "code",
   "execution_count": 280,
   "id": "3ca6fbe7",
   "metadata": {},
   "outputs": [
    {
     "name": "stdout",
     "output_type": "stream",
     "text": [
      "error : [-0.007623    0.10939519  0.23668283  0.72123731  0.47074742  0.0027816\n",
      " -0.19289676 -0.3110928  -0.377401   -0.5079735  -0.96023728 -0.54821858\n",
      " -0.38503749  0.06152056  0.20722645 -0.14862962  0.34972617  0.85567589\n",
      "  0.44257519  0.33961743  0.38117209  0.71991254 -0.36756776 -0.48660594\n",
      " -0.48237917 -0.46642841 -0.28765074 -0.07552251  0.7069939 ]\n",
      "[w0 w1]:  [0.08956111 1.51328267]\n",
      "MSE:  0.140970075607957\n"
     ]
    }
   ],
   "source": [
    "w2 = GD(X,y, 0.001, 10000)\n",
    "\n",
    "y_pred2 = w2[0] + w2[1]*y\n",
    "# Parametros encontrados\n",
    "print('[w0 w1]: ', w2)\n",
    "\n",
    "# MSE\n",
    "print('MSE: ', (1/(2*x.size))* np.sum( ( y - y_pred2 )**2 )   )"
   ]
  },
  {
   "cell_type": "code",
   "execution_count": 281,
   "id": "23ddcbf4",
   "metadata": {},
   "outputs": [
    {
     "data": {
      "image/png": "[encoded data removed]",
      "text/plain": [
       "<Figure size 432x288 with 1 Axes>"
      ]
     },
     "metadata": {
      "needs_background": "light"
     },
     "output_type": "display_data"
    }
   ],
   "source": [
    "plot2d(x,y,w2)"
   ]
  },
  {
   "cell_type": "markdown",
   "id": "36ce146c",
   "metadata": {},
   "source": [
    "    c) Apresente os parâmetros do modelo, o MSE e a curva de aprendizagem obtidos pelo algoritmo SGD (gradiente descendente estocástico). Plote a reta resultante sobre os dados.\n"
   ]
  },
  {
   "cell_type": "code",
   "execution_count": 282,
   "id": "dc40f502",
   "metadata": {},
   "outputs": [],
   "source": [
    "def SGD(X,y, alpha=0.01, epochs=100):\n",
    "    N = X.shape[1]\n",
    "    \n",
    "    #Escolha um valor α positivo e pequeno.\n",
    "    \n",
    "    # Inicialize os parametros do modelo na iteracao t = 0.\n",
    "    w = np.array(np.full(X.shape[1], 1))\n",
    "    w[0] = 0\n",
    "    t=0\n",
    "    \n",
    "    # Repita por diversos ciclos ( ́epocas):\n",
    "    stop_condition = False\n",
    "    while not stop_condition:\n",
    "        \n",
    "        t=t+1\n",
    "        \n",
    "        # Permute aleatoriamente a ordem dos dados\n",
    "        # X_p = numpy.random.permutation(X).copy()\n",
    "        assert X.shape[0] == y.size\n",
    "        p = np.random.permutation(X.shape[0])\n",
    "        X_p, y_p = X[p,:], y[p]\n",
    "\n",
    "        \n",
    "        # Para cada padr ̃ao de entrada, i = 1, . . . , N , repita:\n",
    "        for i in range(0, N-1):\n",
    "\n",
    "            w_t=w.copy()\n",
    "\n",
    "            # Calcule os erros do modelo\n",
    "            y_i_t = np.dot(X_p[i,:], w_t)\n",
    "            err_t = y_p[i] - y_i_t\n",
    "\n",
    "            # Atualize os parametros\n",
    "            w = w_t + alpha*np.dot(err_t,X_p[i,:])\n",
    "\n",
    "\n",
    "            #print(err_t, ' ', i, '\\n\\n\\n', X_p, '\\n\\n\\n', np.dot(err_t,X_p), '\\n\\n\\n', w)\n",
    "        \n",
    "        if t>=epochs:\n",
    "            stop_condition = True\n",
    "        \n",
    "    print('error :',err_t)\n",
    "    return w"
   ]
  },
  {
   "cell_type": "code",
   "execution_count": 283,
   "id": "1526d6e8",
   "metadata": {},
   "outputs": [
    {
     "name": "stdout",
     "output_type": "stream",
     "text": [
      "error : 0.45838192140308265\n",
      "[w0 w1]:  [0.09147236 1.49632622]\n",
      "MSE:  0.13258614969415342\n"
     ]
    }
   ],
   "source": [
    "w3 = SGD(X,y, 0.001, 10000)\n",
    "\n",
    "y_pred3 = w3[0] + w3[1]*y\n",
    "# Parametros encontrados\n",
    "print('[w0 w1]: ', w3)\n",
    "\n",
    "# MSE\n",
    "print('MSE: ', (1/(2*x.size))* np.sum( ( y - y_pred3 )**2 )   )"
   ]
  },
  {
   "cell_type": "code",
   "execution_count": 284,
   "id": "dc6cd2f5",
   "metadata": {},
   "outputs": [
    {
     "data": {
      "image/png": "[encoded data removed]",
      "text/plain": [
       "<Figure size 432x288 with 1 Axes>"
      ]
     },
     "metadata": {
      "needs_background": "light"
     },
     "output_type": "display_data"
    }
   ],
   "source": [
    "plot2d(x,y,w3)"
   ]
  },
  {
   "cell_type": "markdown",
   "id": "d417952b",
   "metadata": {},
   "source": [
    "## Questão 2\n",
    "### Considere o conjunto de dados disponível em california.csv, organizado em 9 colunas, sendo as 8 primeiras colunas os atributos e a última coluna a saída. Os 8 atributos são usados na predição da mediana de preços de casas em dis\u0002tritos da Califórnia na década de 1990. Maiores detalhes sobre os dados po\u0002dem ser conferidos em https://scikit-learn.org/stable/datasets/real_world.html#california-housing-dataset.\n"
   ]
  },
  {
   "cell_type": "code",
   "execution_count": 358,
   "id": "fa84c678",
   "metadata": {},
   "outputs": [
    {
     "name": "stdout",
     "output_type": "stream",
     "text": [
      "[   2.8194       24.            4.7625        1.02083333  608.\n",
      "    2.53333333   36.75       -119.85          0.811     ] \n",
      " (4999, 9)\n"
     ]
    }
   ],
   "source": [
    "california_dataset = np.genfromtxt('./california.csv', delimiter=',', skip_header=1)\n",
    "print(california_dataset[0,:], '\\n', california_dataset.shape)"
   ]
  },
  {
   "cell_type": "markdown",
   "id": "54479729",
   "metadata": {},
   "source": [
    "    a) Aleatoriamente, divida o conjunto de dados em treino (80%) e teste (20%)"
   ]
  },
  {
   "cell_type": "code",
   "execution_count": 352,
   "id": "f602163e",
   "metadata": {},
   "outputs": [],
   "source": [
    "from sklearn.model_selection import train_test_split\n",
    "\n",
    "dataset_train, dataset_test = train_test_split(california_dataset, test_size=0.2, random_state=542406)"
   ]
  },
  {
   "cell_type": "code",
   "execution_count": 357,
   "id": "5f495774",
   "metadata": {},
   "outputs": [
    {
     "name": "stdout",
     "output_type": "stream",
     "text": [
      "training dataset:  [[   1.            3.65         10.         ...    3.54751943\n",
      "    37.82       -121.28      ]\n",
      " [   1.            3.3929       39.         ...    3.46610169\n",
      "    33.79       -118.27      ]\n",
      " [   1.            3.2622       33.         ...    2.83797217\n",
      "    34.02       -118.09      ]\n",
      " ...\n",
      " [   1.            6.155        32.         ...    3.02325581\n",
      "    34.25       -118.5       ]\n",
      " [   1.            2.02         22.         ...    3.16356877\n",
      "    38.95       -119.95      ]\n",
      " [   1.            7.2758       52.         ...    2.65550239\n",
      "    32.74       -117.22      ]] \n",
      " (3999, 9) \n",
      "\n",
      "\n",
      " testing dataset:  [[   1.            3.           50.         ...    3.\n",
      "    33.98       -118.04      ]\n",
      " [   1.            3.6512       18.         ...    3.01097179\n",
      "    34.04       -118.09      ]\n",
      " [   1.            3.2015       42.         ...    2.36462882\n",
      "    34.16       -118.35      ]\n",
      " ...\n",
      " [   1.            2.5743        9.         ...    2.16103896\n",
      "    34.59       -120.14      ]\n",
      " [   1.            4.1953       39.         ...    2.75070028\n",
      "    33.89       -118.33      ]\n",
      " [   1.            5.8416       25.         ...    2.29856115\n",
      "    38.57       -121.4       ]] (1000, 9) \n",
      "\n"
     ]
    }
   ],
   "source": [
    "x_train = dataset_train[:,:8]\n",
    "y_train = dataset_train[:,8]\n",
    "\n",
    "#np.array([np.full(x.shape[0], 1), x[:,0], x[:,1], x[:,2], x[:,3], x[:,4], x[:,5], x[:,6], x[:,7]]).T\n",
    "\n",
    "X_train = np.insert(x_train,0, np.full(x_train.shape[0], 1), axis=1)\n",
    "\n",
    "\n",
    "x_test = dataset_test[:,:8]\n",
    "y_test = dataset_test[:,8]\n",
    "\n",
    "X_test = np.insert(x_test,0, np.full(x_test.shape[0], 1), axis=1)\n",
    "\n",
    "print('training dataset: ', X_train, '\\n', X_train.shape, '\\n\\n\\n', 'testing dataset: ', X_test, X_test.shape, '\\n')"
   ]
  }
 ],
 "metadata": {
  "kernelspec": {
   "display_name": "Python 3 (ipykernel)",
   "language": "python",
   "name": "python3"
  },
  "language_info": {
   "codemirror_mode": {
    "name": "ipython",
    "version": 3
   },
   "file_extension": ".py",
   "mimetype": "text/x-python",
   "name": "python",
   "nbconvert_exporter": "python",
   "pygments_lexer": "ipython3",
   "version": "3.10.0"
  }
 },
 "nbformat": 4,
 "nbformat_minor": 5
}
